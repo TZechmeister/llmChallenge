{
 "cells": [
  {
   "cell_type": "code",
   "execution_count": null,
   "metadata": {},
   "outputs": [],
   "source": [
    "import logging\n",
    "import os\n",
    "from pathlib import Path\n",
    "\n",
    "from dotenv import load_dotenv\n",
    "\n",
    "from llmchallenge import BookSummaryCombiner, ChapterSummarizer, WarAndPeaceSegmenter\n",
    "\n",
    "load_dotenv()\n",
    "\n",
    "level = logging.INFO\n",
    "logging.basicConfig(\n",
    "    filename=\"llmchallenge.log\",\n",
    "    level=level,\n",
    "    format=\"%(asctime)s - %(name)s - %(levelname)s - %(message)s\",\n",
    "    datefmt=\"%Y-%m-%d %H:%M:%S\",\n",
    "    filemode=\"a\",\n",
    ")"
   ]
  },
  {
   "cell_type": "code",
   "execution_count": null,
   "metadata": {},
   "outputs": [],
   "source": [
    "segmenter = WarAndPeaceSegmenter()\n",
    "api_key = os.environ.get(\"OPENAI_API_KEY\")\n",
    "summarizer = ChapterSummarizer(api_key, model=\"gpt-4o-mini\")\n",
    "combiner = BookSummaryCombiner(api_key)\n",
    "data_path = Path(\"../data/\")"
   ]
  },
  {
   "cell_type": "code",
   "execution_count": null,
   "metadata": {},
   "outputs": [],
   "source": [
    "data_file = data_path / \"war_and_peace.txt\"\n",
    "with data_file.open(encoding=\"utf-8\") as file:\n",
    "    text = file.read()\n",
    "\n",
    "books = segmenter.segment_text(text)"
   ]
  },
  {
   "cell_type": "code",
   "execution_count": null,
   "metadata": {},
   "outputs": [],
   "source": [
    "summaries = summarizer.summarize_books_and_chapters(books)"
   ]
  },
  {
   "cell_type": "code",
   "execution_count": null,
   "metadata": {},
   "outputs": [],
   "source": [
    "book_summaries = combiner.summarize_all_books(summaries)"
   ]
  },
  {
   "cell_type": "code",
   "execution_count": null,
   "metadata": {},
   "outputs": [],
   "source": [
    "summary_text = \"\\n\\n\".join(list(book_summaries.values()))\n",
    "\n",
    "summary_file = data_path / \"war_and_peace_summary.txt\"\n",
    "\n",
    "with summary_file.open(mode=\"w\", encoding=\"utf-8\") as file:\n",
    "    file.write(summary_text)\n",
    "\n",
    "print(summary_text)"
   ]
  }
 ],
 "metadata": {
  "kernelspec": {
   "display_name": ".venv",
   "language": "python",
   "name": "python3"
  },
  "language_info": {
   "codemirror_mode": {
    "name": "ipython",
    "version": 3
   },
   "file_extension": ".py",
   "mimetype": "text/x-python",
   "name": "python",
   "nbconvert_exporter": "python",
   "pygments_lexer": "ipython3",
   "version": "3.12.6"
  }
 },
 "nbformat": 4,
 "nbformat_minor": 2
}
